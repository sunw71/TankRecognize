{
 "cells": [
  {
   "cell_type": "code",
   "execution_count": 2,
   "metadata": {},
   "outputs": [
    {
     "data": {
      "text/plain": [
       "'datasets/m_tank_train/000/0056.jpg'"
      ]
     },
     "execution_count": 2,
     "metadata": {},
     "output_type": "execute_result"
    }
   ],
   "source": [
    "from config import tank as config\n",
    "from imutils import paths\n",
    "trainPaths = list(paths.list_images(config.TRAIN_IMAGES))\n",
    "trainPaths[0]"
   ]
  },
  {
   "cell_type": "code",
   "execution_count": 70,
   "metadata": {},
   "outputs": [
    {
     "name": "stdout",
     "output_type": "stream",
     "text": [
      "[ 74 129  25  54  28 128  56  91  71   5 107  44  59  53  49  56  54  25\n",
      "  51 141 167  13  51   7  60  53   9  17  99  58  39   8  56  37  44  49\n",
      "  51  62  41  70  31  59  64  61  97  34  41   8  61   8 124  83  64 159\n",
      " 169  75 123  62  63 118  95  10  65  65  65  64  12 132  22  49  69  48\n",
      "  52  14  74  56  64  62 161  55  56  22  46  42  27 113  76 180 125  39\n",
      "  60 111  61 133   6  35  63  73  28 123  40  39  80  11 164  16  61  89\n",
      "  65  89  36  11  82 146  53 100  59  16  25  64 166  40  52  28   6  64\n",
      "  42  10 118  55  63  50  41 147  61   8  11  57   7  42  27  19  21  51\n",
      "  75  97 158  19  44  64  15  64  44  39  65  26  53 122  48  48  83 161\n",
      "  66  56  98  53  19  67  16  37   7  27  19   8  60  11  29  12  54 165\n",
      "  20  18  89   9  37  46  26  58 124  23  89   8  15   6 135  27  48  44\n",
      "   6  21  86  30  61  57   8]\n",
      "180 5 58.53658536585366\n"
     ]
    }
   ],
   "source": [
    "import h5py\n",
    "import numpy as np\n",
    "db = h5py.File(config.TRAIN_HDF5, \"r\")\n",
    "labels = db[\"labels\"][:]\n",
    "#labels=labels.reshape((-1,1))\n",
    "data,counts = np.unique(labels, return_counts=True)\n",
    "print(counts)\n",
    "print(counts.max(),counts.min(),counts.mean())\n",
    "db.close()"
   ]
  },
  {
   "cell_type": "code",
   "execution_count": 60,
   "metadata": {},
   "outputs": [
    {
     "name": "stdout",
     "output_type": "stream",
     "text": [
      "<class 'pandas.core.frame.DataFrame'>\n",
      "RangeIndex: 205 entries, 0 to 204\n",
      "Data columns (total 1 columns):\n",
      "0    205 non-null int64\n",
      "dtypes: int64(1)\n",
      "memory usage: 1.7 KB\n"
     ]
    }
   ],
   "source": [
    "import pandas as pd\n",
    "counts = pd.DataFrame(counts)\n",
    "counts.info()"
   ]
  },
  {
   "cell_type": "code",
   "execution_count": 64,
   "metadata": {},
   "outputs": [
    {
     "data": {
      "text/plain": [
       "<matplotlib.axes._subplots.AxesSubplot at 0x7f5833822c90>"
      ]
     },
     "execution_count": 64,
     "metadata": {},
     "output_type": "execute_result"
    },
    {
     "data": {
      "image/png": "[encoded data removed]",
      "text/plain": [
       "<Figure size 432x288 with 1 Axes>"
      ]
     },
     "metadata": {
      "needs_background": "light"
     },
     "output_type": "display_data"
    }
   ],
   "source": [
    "%matplotlib inline\n",
    "import matplotlib.pyplot as plt\n",
    "counts.plot(kind='bar')\n",
    "#plt.show()"
   ]
  },
  {
   "cell_type": "code",
   "execution_count": 65,
   "metadata": {},
   "outputs": [
    {
     "data": {
      "text/plain": [
       "array([[<matplotlib.axes._subplots.AxesSubplot object at 0x7f58339abb50>]],\n",
       "      dtype=object)"
      ]
     },
     "execution_count": 65,
     "metadata": {},
     "output_type": "execute_result"
    },
    {
     "data": {
      "image/png": "[encoded data removed]",
      "text/plain": [
       "<Figure size 432x288 with 1 Axes>"
      ]
     },
     "metadata": {
      "needs_background": "light"
     },
     "output_type": "display_data"
    }
   ],
   "source": [
    "counts.hist()"
   ]
  }
 ],
 "metadata": {
  "kernelspec": {
   "display_name": "Python 3",
   "language": "python",
   "name": "python3"
  },
  "language_info": {
   "codemirror_mode": {
    "name": "ipython",
    "version": 3
   },
   "file_extension": ".py",
   "mimetype": "text/x-python",
   "name": "python",
   "nbconvert_exporter": "python",
   "pygments_lexer": "ipython3",
   "version": "3.7.4"
  }
 },
 "nbformat": 4,
 "nbformat_minor": 2
}
